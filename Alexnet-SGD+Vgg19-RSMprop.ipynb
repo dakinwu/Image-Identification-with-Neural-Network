{
 "cells": [
  {
   "cell_type": "markdown",
   "metadata": {},
   "source": [
    "# Final Project"
   ]
  },
  {
   "cell_type": "code",
   "execution_count": 1,
   "metadata": {},
   "outputs": [],
   "source": [
    "import warnings\n",
    "warnings.filterwarnings('ignore')"
   ]
  },
  {
   "cell_type": "code",
   "execution_count": 2,
   "metadata": {},
   "outputs": [
    {
     "name": "stderr",
     "output_type": "stream",
     "text": [
      "Using TensorFlow backend.\n"
     ]
    }
   ],
   "source": [
    "import os\n",
    "import numpy as np\n",
    "import pandas as pd\n",
    "import matplotlib.pyplot as plt\n",
    "import time\n",
    "import json\n",
    "import tensorflow as tf\n",
    "import seaborn as sns\n",
    "from sklearn.metrics import confusion_matrix\n",
    "from keras.models import Sequential, Model, load_model\n",
    "from keras.layers import Dense, Dropout, Flatten, Activation, BatchNormalization\n",
    "from keras.layers.convolutional import Conv2D, MaxPooling2D \n",
    "from keras.preprocessing.image import ImageDataGenerator\n",
    "from keras.optimizers import RMSprop, Adam\n",
    "from keras.callbacks import EarlyStopping, ModelCheckpoint"
   ]
  },
  {
   "cell_type": "code",
   "execution_count": 3,
   "metadata": {},
   "outputs": [],
   "source": [
    "def acc_loss(history, pdir):    \n",
    "    fig, (ax1, ax2) = plt.subplots(1, 2, figsize=(15, 5))\n",
    "    ax1.plot(history['accuracy'], label='Training')\n",
    "    ax1.plot(history['val_accuracy'], label='Validation')\n",
    "    ax1.grid()\n",
    "    ax1.set_title('Accuracy', fontsize=15)\n",
    "    ax1.set_xlabel('epoch', fontsize=12)\n",
    "    ax1.set_ylabel('accuracy', fontsize=12)\n",
    "    ax1.legend(loc='top left')\n",
    "    ax2.plot(history['loss'], label='Training')\n",
    "    ax2.plot(history['val_loss'], label='Validation')\n",
    "    ax2.grid()\n",
    "    ax2.set_title('Loss', fontsize=15)\n",
    "    ax2.set_xlabel('epoch', fontsize=12)\n",
    "    ax2.set_ylabel('loss', fontsize=12)\n",
    "    ax2.legend(loc='top left')\n",
    "    fig.suptitle('Training result', fontsize=18)\n",
    "    fig.savefig(pdir, bbox_inches='tight')"
   ]
  },
  {
   "cell_type": "code",
   "execution_count": 14,
   "metadata": {},
   "outputs": [
    {
     "name": "stdout",
     "output_type": "stream",
     "text": [
      "Found 4434 images belonging to 2 classes.\n",
      "Found 782 images belonging to 2 classes.\n",
      "Found 624 images belonging to 2 classes.\n"
     ]
    }
   ],
   "source": [
    " imgX, imgY, num_classes = 224, 224, 2\n",
    "\n",
    "## image data generator: resize...etc.\n",
    "train_datagen = tf.keras.preprocessing.image.ImageDataGenerator(\n",
    "    rescale=1./255,\n",
    "    width_shift_range=0.05,\n",
    "    height_shift_range=0.15,\n",
    "    rotation_range=10,\n",
    "    zoom_range=0.1,\n",
    "    validation_split=0.15    # validation split from training data\n",
    ")\n",
    "\n",
    "test_datagen = tf.keras.preprocessing.image.ImageDataGenerator(rescale=1./255)\n",
    "\n",
    "batch_size = 64\n",
    "train_generator = train_datagen.flow_from_directory(\n",
    "    directory='train',\n",
    "    target_size=(imgX, imgY),\n",
    "    batch_size=batch_size,\n",
    "    class_mode='binary',\n",
    "    shuffle=True,\n",
    "    subset='training'    # originated from train_datagen set as「training data」.\n",
    ")\n",
    "\n",
    "val_generator = train_datagen.flow_from_directory(\n",
    "    directory='train',\n",
    "    target_size=(imgX, imgY),\n",
    "    batch_size=1,\n",
    "    class_mode='binary',\n",
    "    shuffle=False,\n",
    "    subset='validation'    ## originated from train_datagen set as「validation data」.\n",
    ")\n",
    "\n",
    "test_generator = test_datagen.flow_from_directory(\n",
    "    directory='test', \n",
    "    target_size=(imgX, imgY),\n",
    "    batch_size=1,\n",
    "    class_mode='binary',\n",
    "    shuffle=False\n",
    ")"
   ]
  },
  {
   "cell_type": "code",
   "execution_count": 5,
   "metadata": {},
   "outputs": [],
   "source": [
    "def model_result(predict, name, test=test_generator.classes):\n",
    "    mat1 = confusion_matrix(test, predict)\n",
    "    sns.heatmap(mat1.T, square=True, annot=True, fmt='d', cbar=False,\n",
    "                xticklabels=train_generator.class_indices,\n",
    "                yticklabels=train_generator.class_indices, cmap=\"YlGnBu\")\n",
    "    accuracy = np.sum(test == predict) / len(test)\n",
    "    plt.xlabel('Original', fontsize=14)\n",
    "    plt.ylabel('Predicted', fontsize=14)\n",
    "    plt.title(str(name) + ' ACC:' + str(round(accuracy,4)))\n",
    "    plt.savefig('./images/' + name + '_result.png', bbox_inches='tight')\n",
    "    tn, fp, fn, tp = confusion_matrix(test, predict).ravel()\n",
    "    recall  = round((tp / (tp + fn)), 4) # sensitivity\n",
    "    precision  = round((tn / (tn + fp)), 4) # specificity\n",
    "    f1 = round((2 / (1/recall + 1/precision)), 4)\n",
    "    report = {name: [accuracy, recall, precision, f1]}\n",
    "    report = pd.DataFrame(report, index=['Accuracy', 'Recall', 'Precision', 'F1'])\n",
    "    print(report)"
   ]
  },
  {
   "cell_type": "markdown",
   "metadata": {},
   "source": [
    "# References:\n",
    "\n",
    "https://www.tensorflow.org/guide/keras/save_and_serialize\n",
    "\n",
    "https://blog.csdn.net/weixin_30826761/article/details/95509779\n",
    "\n",
    "https://blog.csdn.net/sinat_26917383/article/details/72859145\n",
    "\n",
    "https://blog.csdn.net/sunbaigui/article/details/50807418\n",
    "\n",
    "https://blog.csdn.net/langb2014/article/details/52787095\n",
    "\n",
    "https://blog.csdn.net/cv_family_z/article/details/50789805\n",
    "\n",
    "https://blog.csdn.net/qq_36330643/article/details/77367709\n",
    "\n",
    "https://blog.csdn.net/wmy199216/article/details/71171401 \n",
    "\n",
    "https://blog.csdn.net/weixin_41967600/article/details/105616647#GoogleNet%C2%A0\n",
    "\n",
    "https://keras-cn.readthedocs.io/en/latest/other/application/\n",
    "\n",
    "https://gist.github.com/baraldilorenzo/8d096f48a1be4a2d660d"
   ]
  },
  {
   "cell_type": "code",
   "execution_count": 6,
   "metadata": {},
   "outputs": [],
   "source": [
    "from numba import cuda\n",
    "cuda.select_device(0)\n",
    "cuda.close()"
   ]
  },
  {
   "cell_type": "markdown",
   "metadata": {},
   "source": [
    "##### 關於BFC算法：\n",
    "##### 將內存分塊管理，按塊進行空間分配和釋放。\n",
    "##### 通過split操作將大內存塊分解成用戶需要的小內存塊。\n",
    "##### 通過merge操作合併小的內存塊，做到內存碎片回收\n",
    "##### 通過bin這個抽象數據結構實現對空閒塊高效管理。"
   ]
  },
  {
   "cell_type": "code",
   "execution_count": 7,
   "metadata": {},
   "outputs": [],
   "source": [
    "from keras.backend.tensorflow_backend import set_session\n",
    "\n",
    "config=tf.compat.v1.ConfigProto()\n",
    "config.gpu_options.allocator_type = 'BFC'\n",
    "tf.compat.v1.keras.backend.set_session(config)"
   ]
  },
  {
   "cell_type": "markdown",
   "metadata": {},
   "source": [
    "### AlexNet"
   ]
  },
  {
   "cell_type": "code",
   "execution_count": 21,
   "metadata": {},
   "outputs": [
    {
     "name": "stdout",
     "output_type": "stream",
     "text": [
      "Model: \"sequential_5\"\n",
      "_________________________________________________________________\n",
      "Layer (type)                 Output Shape              Param #   \n",
      "=================================================================\n",
      "conv2d_21 (Conv2D)           (None, 54, 54, 96)        34944     \n",
      "_________________________________________________________________\n",
      "max_pooling2d_13 (MaxPooling (None, 26, 26, 96)        0         \n",
      "_________________________________________________________________\n",
      "conv2d_22 (Conv2D)           (None, 26, 26, 256)       614656    \n",
      "_________________________________________________________________\n",
      "max_pooling2d_14 (MaxPooling (None, 12, 12, 256)       0         \n",
      "_________________________________________________________________\n",
      "conv2d_23 (Conv2D)           (None, 12, 12, 384)       885120    \n",
      "_________________________________________________________________\n",
      "conv2d_24 (Conv2D)           (None, 12, 12, 384)       1327488   \n",
      "_________________________________________________________________\n",
      "conv2d_25 (Conv2D)           (None, 12, 12, 256)       884992    \n",
      "_________________________________________________________________\n",
      "max_pooling2d_15 (MaxPooling (None, 5, 5, 256)         0         \n",
      "_________________________________________________________________\n",
      "flatten_5 (Flatten)          (None, 6400)              0         \n",
      "_________________________________________________________________\n",
      "dense_21 (Dense)             (None, 4096)              26218496  \n",
      "_________________________________________________________________\n",
      "dropout_17 (Dropout)         (None, 4096)              0         \n",
      "_________________________________________________________________\n",
      "dense_22 (Dense)             (None, 4096)              16781312  \n",
      "_________________________________________________________________\n",
      "dropout_18 (Dropout)         (None, 4096)              0         \n",
      "_________________________________________________________________\n",
      "dense_23 (Dense)             (None, 1000)              4097000   \n",
      "_________________________________________________________________\n",
      "batch_normalization_13 (Batc (None, 1000)              4000      \n",
      "_________________________________________________________________\n",
      "dense_24 (Dense)             (None, 128)               128128    \n",
      "_________________________________________________________________\n",
      "dropout_19 (Dropout)         (None, 128)               0         \n",
      "_________________________________________________________________\n",
      "batch_normalization_14 (Batc (None, 128)               512       \n",
      "_________________________________________________________________\n",
      "dense_25 (Dense)             (None, 64)                8256      \n",
      "_________________________________________________________________\n",
      "dropout_20 (Dropout)         (None, 64)                0         \n",
      "_________________________________________________________________\n",
      "batch_normalization_15 (Batc (None, 64)                256       \n",
      "_________________________________________________________________\n",
      "output (Dense)               (None, 1)                 65        \n",
      "=================================================================\n",
      "Total params: 50,985,225\n",
      "Trainable params: 50,982,841\n",
      "Non-trainable params: 2,384\n",
      "_________________________________________________________________\n",
      "None\n"
     ]
    }
   ],
   "source": [
    "model = Sequential()\n",
    "model.add(Conv2D(96, (11, 11), strides=(4, 4), input_shape=(224, 224, 3), padding='valid',\n",
    "                 activation='relu', kernel_initializer='uniform'))\n",
    "model.add(MaxPooling2D(pool_size=(3, 3), strides=(2, 2)))\n",
    "model.add(Conv2D(256, (5, 5), strides=(1, 1), padding='same',activation='relu', kernel_initializer='uniform'))\n",
    "model.add(MaxPooling2D(pool_size=(3, 3), strides=(2, 2)))\n",
    "model.add(Conv2D(384, (3, 3), strides=(1, 1), padding='same', activation='relu', kernel_initializer='uniform'))\n",
    "model.add(Conv2D(384, (3, 3), strides=(1, 1), padding='same', activation='relu', kernel_initializer='uniform'))\n",
    "model.add(Conv2D(256, (3, 3), strides=(1, 1), padding='same', activation='relu', kernel_initializer='uniform'))\n",
    "model.add(MaxPooling2D(pool_size=(3, 3), strides=(2, 2)))\n",
    "model.add(Flatten())\n",
    "model.add(Dense(4096, activation='relu'))\n",
    "model.add(Dropout(0.5))\n",
    "model.add(Dense(4096, activation='relu'))\n",
    "model.add(Dropout(0.5))\n",
    "model.add(Dense(1000, activation='softmax'))\n",
    "\n",
    "model.add(BatchNormalization())\n",
    "model.add(Dense(128, activation='relu'))\n",
    "model.add(Dropout(0.25))\n",
    "model.add(BatchNormalization())\n",
    "model.add(Dense(64, activation='sigmoid'))\n",
    "model.add(Dropout(0.2))\n",
    "model.add(BatchNormalization())\n",
    "model.add(Dense(1, activation='sigmoid', name='output'))\n",
    "\n",
    "model.compile(loss='binary_crossentropy',\n",
    "              optimizer=tf.keras.optimizers.SGD(),\n",
    "              metrics=[tf.keras.metrics.binary_crossentropy, 'accuracy'])\n",
    "\n",
    "print(model.summary())"
   ]
  },
  {
   "cell_type": "code",
   "execution_count": 22,
   "metadata": {},
   "outputs": [
    {
     "name": "stdout",
     "output_type": "stream",
     "text": [
      "Epoch 1/15\n",
      "70/70 [==============================] - 97s 1s/step - loss: 0.7419 - binary_crossentropy: 0.7396 - accuracy: 0.5959 - val_loss: 0.5408 - val_binary_crossentropy: 0.6253 - val_accuracy: 0.7430\n",
      "Epoch 2/15\n",
      "70/70 [==============================] - 85s 1s/step - loss: 0.5159 - binary_crossentropy: 0.5163 - accuracy: 0.7700 - val_loss: 0.4755 - val_binary_crossentropy: 0.5881 - val_accuracy: 0.7430\n",
      "Epoch 3/15\n",
      "70/70 [==============================] - 88s 1s/step - loss: 0.4206 - binary_crossentropy: 0.4210 - accuracy: 0.8272 - val_loss: 0.4201 - val_binary_crossentropy: 0.5559 - val_accuracy: 0.7430\n",
      "Epoch 4/15\n",
      "70/70 [==============================] - 90s 1s/step - loss: 0.3831 - binary_crossentropy: 0.3792 - accuracy: 0.8507 - val_loss: 0.5057 - val_binary_crossentropy: 0.5110 - val_accuracy: 0.7532\n",
      "Epoch 5/15\n",
      "70/70 [==============================] - 87s 1s/step - loss: 0.3463 - binary_crossentropy: 0.3447 - accuracy: 0.8642 - val_loss: 0.6160 - val_binary_crossentropy: 0.4666 - val_accuracy: 0.8043\n",
      "Epoch 6/15\n",
      "70/70 [==============================] - 90s 1s/step - loss: 0.3230 - binary_crossentropy: 0.3209 - accuracy: 0.8796 - val_loss: 0.2548 - val_binary_crossentropy: 0.5040 - val_accuracy: 0.7455\n",
      "Epoch 7/15\n",
      "70/70 [==============================] - 90s 1s/step - loss: 0.2883 - binary_crossentropy: 0.2898 - accuracy: 0.8899 - val_loss: 0.4197 - val_binary_crossentropy: 0.3595 - val_accuracy: 0.8261\n",
      "Epoch 8/15\n",
      "70/70 [==============================] - 92s 1s/step - loss: 0.2713 - binary_crossentropy: 0.2729 - accuracy: 0.8990 - val_loss: 0.0976 - val_binary_crossentropy: 0.3759 - val_accuracy: 0.8159\n",
      "Epoch 9/15\n",
      "70/70 [==============================] - 96s 1s/step - loss: 0.2410 - binary_crossentropy: 0.2415 - accuracy: 0.9087 - val_loss: 0.1304 - val_binary_crossentropy: 0.3154 - val_accuracy: 0.8440\n",
      "Epoch 10/15\n",
      "70/70 [==============================] - 93s 1s/step - loss: 0.2361 - binary_crossentropy: 0.2356 - accuracy: 0.9082 - val_loss: 0.0353 - val_binary_crossentropy: 0.5540 - val_accuracy: 0.7954\n",
      "Epoch 11/15\n",
      "70/70 [==============================] - 95s 1s/step - loss: 0.2293 - binary_crossentropy: 0.2298 - accuracy: 0.9147 - val_loss: 6.4563 - val_binary_crossentropy: 1.8230 - val_accuracy: 0.5230\n",
      "Epoch 12/15\n",
      "70/70 [==============================] - 94s 1s/step - loss: 0.2168 - binary_crossentropy: 0.2182 - accuracy: 0.9184 - val_loss: 0.0543 - val_binary_crossentropy: 0.2502 - val_accuracy: 0.8900\n",
      "Epoch 13/15\n",
      "70/70 [==============================] - 92s 1s/step - loss: 0.1970 - binary_crossentropy: 0.1976 - accuracy: 0.9253 - val_loss: 5.3839 - val_binary_crossentropy: 0.7674 - val_accuracy: 0.7545\n",
      "Epoch 14/15\n",
      "70/70 [==============================] - 91s 1s/step - loss: 0.1931 - binary_crossentropy: 0.1939 - accuracy: 0.9301 - val_loss: 0.0202 - val_binary_crossentropy: 0.4946 - val_accuracy: 0.8095\n",
      "Epoch 15/15\n",
      "70/70 [==============================] - 88s 1s/step - loss: 0.1926 - binary_crossentropy: 0.1918 - accuracy: 0.9299 - val_loss: 0.0981 - val_binary_crossentropy: 0.1635 - val_accuracy: 0.9297\n",
      "\n",
      "AlexNet: 1367.5584528446198 seconds.\n"
     ]
    }
   ],
   "source": [
    "model_ckpt = ModelCheckpoint('./models/Alexnet_SGD.h5', monitor='val_acc', save_best_only=True)\n",
    "\n",
    "# set_session(tf.Session(config=config))\n",
    "start = time.time()\n",
    "\n",
    "model_alexnet = model.fit(train_generator,\n",
    "                          epochs=15,\n",
    "                          validation_data=val_generator,\n",
    "                          callbacks=[model_ckpt])\n",
    "end = time.time()\n",
    "\n",
    "print('\\nAlexNet: {0} seconds.'.format(end - start))\n",
    "model.save('./models/Alexnet_SGD_last.h5')\n",
    "\n",
    "history_alexnet = pd.DataFrame(model_alexnet.history)\n",
    "with open('./history/Alexnet_SGD_hist.json', 'w') as f:\n",
    "    history_alexnet.to_json(f)"
   ]
  },
  {
   "cell_type": "code",
   "execution_count": 23,
   "metadata": {},
   "outputs": [
    {
     "name": "stdout",
     "output_type": "stream",
     "text": [
      "Average Training Accuracy 0.86744857\n",
      "Average Validation Accuracy 0.7813299258550008\n"
     ]
    }
   ],
   "source": [
    "hist = model_alexnet.history\n",
    "print('Average Training Accuracy', np.average(hist['accuracy']))\n",
    "print('Average Validation Accuracy', np.average(hist['val_accuracy']))"
   ]
  },
  {
   "cell_type": "code",
   "execution_count": 24,
   "metadata": {},
   "outputs": [
    {
     "data": {
      "image/png": "[encoded data removed]",
      "text/plain": [
       "<Figure size 1080x360 with 2 Axes>"
      ]
     },
     "metadata": {
      "needs_background": "light"
     },
     "output_type": "display_data"
    }
   ],
   "source": [
    "acc_loss(hist, './images/Alexnet_SGD.png')"
   ]
  },
  {
   "cell_type": "code",
   "execution_count": 25,
   "metadata": {},
   "outputs": [
    {
     "name": "stdout",
     "output_type": "stream",
     "text": [
      "624/624 [==============================] - 9s 14ms/step\n",
      "AlexNet - Test loss: 0.11778854578733444\n",
      "AlexNet - Test accuracy: 0.7980769276618958\n"
     ]
    }
   ],
   "source": [
    "score = model.evaluate(test_generator, verbose=1)\n",
    "print('AlexNet - Test loss:', score[0])\n",
    "print('AlexNet - Test accuracy:', score[2])\n",
    "predict = np.ravel(model.predict_classes(test_generator, batch_size=None, verbose=0))"
   ]
  },
  {
   "cell_type": "code",
   "execution_count": 26,
   "metadata": {},
   "outputs": [
    {
     "name": "stdout",
     "output_type": "stream",
     "text": [
      "          AlexNet_SGD\n",
      "Accuracy     0.798077\n",
      "Recall       0.989700\n",
      "Precison     0.478600\n",
      "F1           0.645200\n"
     ]
    },
    {
     "data": {
      "image/png": "[encoded data removed]",
      "text/plain": [
       "<Figure size 432x288 with 1 Axes>"
      ]
     },
     "metadata": {
      "needs_background": "light"
     },
     "output_type": "display_data"
    }
   ],
   "source": [
    "model_result(predict, 'AlexNet_SGD')"
   ]
  },
  {
   "cell_type": "code",
   "execution_count": 17,
   "metadata": {},
   "outputs": [],
   "source": [
    "model = load_model('./models/Alexnet_SGD_last.h5')"
   ]
  },
  {
   "cell_type": "code",
   "execution_count": 18,
   "metadata": {},
   "outputs": [],
   "source": [
    "model.compile(loss='binary_crossentropy',\n",
    "              optimizer=tf.keras.optimizers.SGD(),\n",
    "              metrics=[tf.keras.metrics.binary_crossentropy, 'accuracy'])"
   ]
  },
  {
   "cell_type": "markdown",
   "metadata": {},
   "source": [
    "### VGG19"
   ]
  },
  {
   "cell_type": "code",
   "execution_count": 27,
   "metadata": {},
   "outputs": [],
   "source": [
    "from keras.applications.vgg19 import VGG19"
   ]
  },
  {
   "cell_type": "code",
   "execution_count": 28,
   "metadata": {},
   "outputs": [
    {
     "name": "stdout",
     "output_type": "stream",
     "text": [
      "Model: \"sequential_5\"\n",
      "_________________________________________________________________\n",
      "Layer (type)                 Output Shape              Param #   \n",
      "=================================================================\n",
      "vgg19 (Model)                (None, 7, 7, 512)         20024384  \n",
      "_________________________________________________________________\n",
      "flatten_5 (Flatten)          (None, 25088)             0         \n",
      "_________________________________________________________________\n",
      "batch_normalization_13 (Batc (None, 25088)             100352    \n",
      "_________________________________________________________________\n",
      "dense_21 (Dense)             (None, 128)               3211392   \n",
      "_________________________________________________________________\n",
      "dropout_17 (Dropout)         (None, 128)               0         \n",
      "_________________________________________________________________\n",
      "batch_normalization_14 (Batc (None, 128)               512       \n",
      "_________________________________________________________________\n",
      "dense_22 (Dense)             (None, 32)                4128      \n",
      "_________________________________________________________________\n",
      "dropout_18 (Dropout)         (None, 32)                0         \n",
      "_________________________________________________________________\n",
      "batch_normalization_15 (Batc (None, 32)                128       \n",
      "_________________________________________________________________\n",
      "output (Dense)               (None, 1)                 33        \n",
      "=================================================================\n",
      "Total params: 23,340,929\n",
      "Trainable params: 3,266,049\n",
      "Non-trainable params: 20,074,880\n",
      "_________________________________________________________________\n",
      "None\n"
     ]
    }
   ],
   "source": [
    "model = Sequential()\n",
    "\n",
    "vgg_model = VGG19(weights='imagenet', include_top=False, input_shape=(224, 224, 3))\n",
    "vgg_model.trainable = False\n",
    "\n",
    "model.add(vgg_model)\n",
    "model.add(Flatten())\n",
    "model.add(BatchNormalization())\n",
    "model.add(Dense(128, activation='relu'))\n",
    "model.add(Dropout(0.5))\n",
    "model.add(BatchNormalization())\n",
    "model.add(Dense(32, activation='sigmoid'))\n",
    "model.add(Dropout(0.25))\n",
    "model.add(BatchNormalization())\n",
    "model.add(Dense(1, activation='sigmoid', name='output'))\n",
    "\n",
    "model.compile(loss='binary_crossentropy',\n",
    "              optimizer=tf.keras.optimizers.RMSprop(), # Adam(learning_rate=0.0001)\n",
    "              metrics=[tf.keras.metrics.binary_crossentropy,'accuracy'])\n",
    "\n",
    "print(model.summary())"
   ]
  },
  {
   "cell_type": "code",
   "execution_count": 29,
   "metadata": {},
   "outputs": [
    {
     "name": "stdout",
     "output_type": "stream",
     "text": [
      "Epoch 1/15\n",
      "70/70 [==============================] - 98s 1s/step - loss: 0.3114 - binary_crossentropy: 0.3093 - accuracy: 0.8899 - val_loss: 1.0589 - val_binary_crossentropy: 0.2934 - val_accuracy: 0.9373\n",
      "Epoch 2/15\n",
      "70/70 [==============================] - 88s 1s/step - loss: 0.1723 - binary_crossentropy: 0.1728 - accuracy: 0.9524 - val_loss: 0.0974 - val_binary_crossentropy: 0.2950 - val_accuracy: 0.8465\n",
      "Epoch 3/15\n",
      "70/70 [==============================] - 88s 1s/step - loss: 0.1395 - binary_crossentropy: 0.1393 - accuracy: 0.9605 - val_loss: 0.0815 - val_binary_crossentropy: 0.3119 - val_accuracy: 0.8568\n",
      "Epoch 4/15\n",
      "70/70 [==============================] - 88s 1s/step - loss: 0.1152 - binary_crossentropy: 0.1147 - accuracy: 0.9668 - val_loss: 0.0527 - val_binary_crossentropy: 0.1131 - val_accuracy: 0.9514\n",
      "Epoch 5/15\n",
      "70/70 [==============================] - 90s 1s/step - loss: 0.0949 - binary_crossentropy: 0.0948 - accuracy: 0.9705 - val_loss: 0.0076 - val_binary_crossentropy: 0.0894 - val_accuracy: 0.9629\n",
      "Epoch 6/15\n",
      "70/70 [==============================] - 89s 1s/step - loss: 0.0998 - binary_crossentropy: 0.1006 - accuracy: 0.9687 - val_loss: 0.0866 - val_binary_crossentropy: 0.0938 - val_accuracy: 0.9719\n",
      "Epoch 7/15\n",
      "70/70 [==============================] - 89s 1s/step - loss: 0.0943 - binary_crossentropy: 0.0951 - accuracy: 0.9666 - val_loss: 0.0173 - val_binary_crossentropy: 0.0944 - val_accuracy: 0.9552\n",
      "Epoch 8/15\n",
      "70/70 [==============================] - 91s 1s/step - loss: 0.0817 - binary_crossentropy: 0.0815 - accuracy: 0.9750 - val_loss: 0.3407 - val_binary_crossentropy: 0.0827 - val_accuracy: 0.9706\n",
      "Epoch 9/15\n",
      "70/70 [==============================] - 90s 1s/step - loss: 0.0752 - binary_crossentropy: 0.0752 - accuracy: 0.9738 - val_loss: 0.0052 - val_binary_crossentropy: 0.0902 - val_accuracy: 0.9668\n",
      "Epoch 10/15\n",
      "70/70 [==============================] - 89s 1s/step - loss: 0.0813 - binary_crossentropy: 0.0811 - accuracy: 0.9741 - val_loss: 0.0657 - val_binary_crossentropy: 0.0926 - val_accuracy: 0.9719\n",
      "Epoch 11/15\n",
      "70/70 [==============================] - 93s 1s/step - loss: 0.0794 - binary_crossentropy: 0.0795 - accuracy: 0.9752 - val_loss: 0.0420 - val_binary_crossentropy: 0.1205 - val_accuracy: 0.9616\n",
      "Epoch 12/15\n",
      "70/70 [==============================] - 90s 1s/step - loss: 0.0775 - binary_crossentropy: 0.0779 - accuracy: 0.9734 - val_loss: 0.0037 - val_binary_crossentropy: 0.0833 - val_accuracy: 0.9693\n",
      "Epoch 13/15\n",
      "70/70 [==============================] - 89s 1s/step - loss: 0.0647 - binary_crossentropy: 0.0650 - accuracy: 0.9768 - val_loss: 0.1945 - val_binary_crossentropy: 0.1256 - val_accuracy: 0.9642\n",
      "Epoch 14/15\n",
      "70/70 [==============================] - 94s 1s/step - loss: 0.0684 - binary_crossentropy: 0.0673 - accuracy: 0.9777 - val_loss: 0.0034 - val_binary_crossentropy: 0.0923 - val_accuracy: 0.9680\n",
      "Epoch 15/15\n",
      "70/70 [==============================] - 90s 1s/step - loss: 0.0620 - binary_crossentropy: 0.0583 - accuracy: 0.9804 - val_loss: 0.5799 - val_binary_crossentropy: 0.1129 - val_accuracy: 0.9616\n",
      "\n",
      "VGG19 took 1358.0016069412231 seconds.\n"
     ]
    }
   ],
   "source": [
    "# earlystop = EarlyStopping(monitor='val_acc', patience=5, mode='max', verbose=1)\n",
    "model_ckpt = ModelCheckpoint(filepath='./models/Vgg19_RMSprop.h5', monitor='val_acc', save_best_only=True)\n",
    "\n",
    "start = time.time()\n",
    "\n",
    "model_vgg19 = model.fit(train_generator, \n",
    "                        epochs=15,\n",
    "                        validation_data=val_generator,\n",
    "                        callbacks=[model_ckpt])\n",
    "\n",
    "end = time.time()\n",
    "print('\\nVGG19 took {0} seconds.'.format(end - start))\n",
    "\n",
    "model.save('./models/Vgg19_RMSprop_last.h5')\n",
    "\n",
    "history_vgg19 = pd.DataFrame(model_vgg19.history)\n",
    "with open('./history/Vgg19_RMSprop_hist.json', 'w') as f:\n",
    "    history_vgg19.to_json(f)"
   ]
  },
  {
   "cell_type": "code",
   "execution_count": 30,
   "metadata": {},
   "outputs": [
    {
     "name": "stdout",
     "output_type": "stream",
     "text": [
      "Average Training Accuracy 0.9654489\n",
      "Average Validation Accuracy 0.9477408369382222\n"
     ]
    }
   ],
   "source": [
    "hist = model_vgg19.history\n",
    "print('Average Training Accuracy', np.average(hist['accuracy']))\n",
    "print('Average Validation Accuracy', np.average(hist['val_accuracy']))"
   ]
  },
  {
   "cell_type": "code",
   "execution_count": 31,
   "metadata": {},
   "outputs": [
    {
     "data": {
      "image/png": "[encoded data removed]",
      "text/plain": [
       "<Figure size 1080x360 with 2 Axes>"
      ]
     },
     "metadata": {
      "needs_background": "light"
     },
     "output_type": "display_data"
    }
   ],
   "source": [
    "acc_loss(hist, './images/Vgg19_RMSprop.png')"
   ]
  },
  {
   "cell_type": "code",
   "execution_count": 29,
   "metadata": {},
   "outputs": [
    {
     "name": "stdout",
     "output_type": "stream",
     "text": [
      "624/624 [==============================] - 12s 20ms/step\n",
      "Vgg19 - Test loss: 0.03209325298666954\n",
      "Vgg19 - Test accuracy: 0.8942307829856873\n"
     ]
    }
   ],
   "source": [
    "score = model.evaluate(test_generator, verbose=1)\n",
    "print('Vgg19 - Test loss:', score[0])\n",
    "print('Vgg19 - Test accuracy:', score[2])\n",
    "predict = (model.predict_classes(test_generator, batch_size = None, verbose=0)).ravel()"
   ]
  },
  {
   "cell_type": "code",
   "execution_count": 30,
   "metadata": {},
   "outputs": [
    {
     "name": "stdout",
     "output_type": "stream",
     "text": [
      "          Vgg19_RMSprop\n",
      "Accuracy       0.894231\n",
      "Recall         0.979500\n",
      "Precison       0.752100\n",
      "F1             0.850900\n"
     ]
    },
    {
     "data": {
      "image/png": "[encoded data removed]",
      "text/plain": [
       "<Figure size 432x288 with 1 Axes>"
      ]
     },
     "metadata": {
      "needs_background": "light"
     },
     "output_type": "display_data"
    }
   ],
   "source": [
    "model_result(predict, 'Vgg19_RMSprop')"
   ]
  },
  {
   "cell_type": "code",
   "execution_count": 27,
   "metadata": {},
   "outputs": [],
   "source": [
    "model = load_model('./models/Vgg19_RMSprop_last.h5')"
   ]
  },
  {
   "cell_type": "code",
   "execution_count": 28,
   "metadata": {},
   "outputs": [],
   "source": [
    "model.compile(loss='binary_crossentropy',\n",
    "              optimizer=tf.keras.optimizers.RMSprop(), # Adam(learning_rate=0.0001)\n",
    "              metrics=[tf.keras.metrics.binary_crossentropy,'accuracy'])"
   ]
  },
  {
   "cell_type": "code",
   "execution_count": null,
   "metadata": {},
   "outputs": [],
   "source": []
  }
 ],
 "metadata": {
  "kernelspec": {
   "display_name": "Python 3",
   "language": "python",
   "name": "python3"
  },
  "language_info": {
   "codemirror_mode": {
    "name": "ipython",
    "version": 3
   },
   "file_extension": ".py",
   "mimetype": "text/x-python",
   "name": "python",
   "nbconvert_exporter": "python",
   "pygments_lexer": "ipython3",
   "version": "3.7.1"
  }
 },
 "nbformat": 4,
 "nbformat_minor": 4
}
