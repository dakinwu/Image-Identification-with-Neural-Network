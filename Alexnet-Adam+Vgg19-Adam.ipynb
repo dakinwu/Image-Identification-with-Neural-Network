{
 "cells": [
  {
   "cell_type": "markdown",
   "metadata": {},
   "source": [
    "# Final Project"
   ]
  },
  {
   "cell_type": "code",
   "execution_count": 1,
   "metadata": {},
   "outputs": [],
   "source": [
    "import warnings\n",
    "warnings.filterwarnings('ignore')"
   ]
  },
  {
   "cell_type": "code",
   "execution_count": 2,
   "metadata": {},
   "outputs": [
    {
     "name": "stderr",
     "output_type": "stream",
     "text": [
      "Using TensorFlow backend.\n"
     ]
    }
   ],
   "source": [
    "import os\n",
    "import numpy as np\n",
    "import pandas as pd\n",
    "import matplotlib.pyplot as plt\n",
    "import time\n",
    "import json\n",
    "import tensorflow as tf\n",
    "import seaborn as sns\n",
    "from sklearn.metrics import confusion_matrix\n",
    "from keras.models import Sequential, Model, load_model\n",
    "from keras.layers import Dense, Dropout, Flatten, Activation, BatchNormalization\n",
    "from keras.layers.convolutional import Conv2D, MaxPooling2D \n",
    "from keras.preprocessing.image import ImageDataGenerator\n",
    "from keras.optimizers import RMSprop, Adam\n",
    "from keras.callbacks import EarlyStopping, ModelCheckpoint"
   ]
  },
  {
   "cell_type": "code",
   "execution_count": 3,
   "metadata": {},
   "outputs": [],
   "source": [
    "def acc_loss(history, pdir):    \n",
    "    fig, (ax1, ax2) = plt.subplots(1, 2, figsize=(15, 5))\n",
    "    ax1.plot(history['accuracy'], label='Training')\n",
    "    ax1.plot(history['val_accuracy'], label='Validation')\n",
    "    ax1.grid()\n",
    "    ax1.set_title('Accuracy', fontsize=15)\n",
    "    ax1.set_xlabel('epoch', fontsize=12)\n",
    "    ax1.set_ylabel('accuracy', fontsize=12)\n",
    "    ax1.legend(loc='top left')\n",
    "    ax2.plot(history['loss'], label='Training')\n",
    "    ax2.plot(history['val_loss'], label='Validation')\n",
    "    ax2.grid()\n",
    "    ax2.set_title('Loss', fontsize=15)\n",
    "    ax2.set_xlabel('epoch', fontsize=12)\n",
    "    ax2.set_ylabel('loss', fontsize=12)\n",
    "    ax2.legend(loc='top left')\n",
    "    fig.suptitle('Training result', fontsize=18)\n",
    "    fig.savefig(pdir, bbox_inches='tight')"
   ]
  },
  {
   "cell_type": "code",
   "execution_count": 4,
   "metadata": {},
   "outputs": [
    {
     "name": "stdout",
     "output_type": "stream",
     "text": [
      "Found 4434 images belonging to 2 classes.\n",
      "Found 782 images belonging to 2 classes.\n",
      "Found 624 images belonging to 2 classes.\n"
     ]
    }
   ],
   "source": [
    "imgX, imgY, num_classes = 224, 224, 2\n",
    "\n",
    "## image data generator: resize...etc.\n",
    "train_datagen = tf.keras.preprocessing.image.ImageDataGenerator(\n",
    "    rescale=1./255,\n",
    "    width_shift_range=0.05,\n",
    "    height_shift_range=0.15,\n",
    "    rotation_range=10,\n",
    "    zoom_range=0.1,\n",
    "    validation_split=0.15    # validation split from training data\n",
    ")\n",
    "\n",
    "test_datagen = tf.keras.preprocessing.image.ImageDataGenerator(rescale=1./255)\n",
    "\n",
    "batch_size = 64\n",
    "train_generator = train_datagen.flow_from_directory(\n",
    "    directory='train',\n",
    "    target_size=(imgX, imgY),\n",
    "    batch_size=batch_size,\n",
    "    class_mode='binary',\n",
    "    shuffle=True,\n",
    "    subset='training'    # originated from train_datagen set as「training data」.\n",
    ")\n",
    "\n",
    "val_generator = train_datagen.flow_from_directory(\n",
    "    directory='train',\n",
    "    target_size=(imgX, imgY),\n",
    "    batch_size=1,\n",
    "    class_mode='binary',\n",
    "    shuffle=False,\n",
    "    subset='validation'    ## originated from train_datagen set as「validation data」.\n",
    ")\n",
    "\n",
    "test_generator = test_datagen.flow_from_directory(\n",
    "    directory='test', \n",
    "    target_size=(imgX, imgY),\n",
    "    batch_size=1,\n",
    "    class_mode='binary',\n",
    "    shuffle=False\n",
    ")"
   ]
  },
  {
   "cell_type": "code",
   "execution_count": 5,
   "metadata": {},
   "outputs": [],
   "source": [
    "def model_result(predict, name, test=test_generator.classes):\n",
    "    mat1 = confusion_matrix(test, predict)\n",
    "    sns.heatmap(mat1.T, square=True, annot=True, fmt='d', cbar=False,\n",
    "                xticklabels=train_generator.class_indices,\n",
    "                yticklabels=train_generator.class_indices, cmap=\"YlGnBu\")\n",
    "    accuracy = np.sum(test == predict) / len(test)\n",
    "    plt.xlabel('Original', fontsize=14)\n",
    "    plt.ylabel('Predicted', fontsize=14)\n",
    "    plt.title(str(name) + ' ACC:' + str(round(accuracy,4)))\n",
    "    plt.savefig('./images/' + name + '_result.png', bbox_inches='tight')\n",
    "    tn, fp, fn, tp = confusion_matrix(test, predict).ravel()\n",
    "    recall  = round((tp / (tp + fn)), 4) # sensitivity\n",
    "    precision  = round((tn / (tn + fp)), 4) # specificity\n",
    "    f1 = round((2 / (1/recall + 1/precision)), 4)\n",
    "    report = {name: [accuracy, recall, precision, f1]}\n",
    "    report = pd.DataFrame(report, index=['Accuracy', 'Recall', 'Precision', 'F1'])\n",
    "    print(report)"
   ]
  },
  {
   "cell_type": "markdown",
   "metadata": {},
   "source": [
    "# References:\n",
    "\n",
    "https://www.tensorflow.org/guide/keras/save_and_serialize\n",
    "\n",
    "https://blog.csdn.net/weixin_30826761/article/details/95509779\n",
    "\n",
    "https://blog.csdn.net/sinat_26917383/article/details/72859145\n",
    "\n",
    "https://blog.csdn.net/sunbaigui/article/details/50807418\n",
    "\n",
    "https://blog.csdn.net/langb2014/article/details/52787095\n",
    "\n",
    "https://blog.csdn.net/cv_family_z/article/details/50789805\n",
    "\n",
    "https://blog.csdn.net/qq_36330643/article/details/77367709\n",
    "\n",
    "https://blog.csdn.net/wmy199216/article/details/71171401 \n",
    "\n",
    "https://blog.csdn.net/weixin_41967600/article/details/105616647#GoogleNet%C2%A0\n",
    "\n",
    "https://keras-cn.readthedocs.io/en/latest/other/application/\n",
    "\n",
    "https://gist.github.com/baraldilorenzo/8d096f48a1be4a2d660d"
   ]
  },
  {
   "cell_type": "code",
   "execution_count": 6,
   "metadata": {},
   "outputs": [],
   "source": [
    "from numba import cuda\n",
    "cuda.select_device(0)\n",
    "cuda.close()"
   ]
  },
  {
   "cell_type": "markdown",
   "metadata": {},
   "source": [
    "##### 關於BFC算法：\n",
    "##### 將內存分塊管理，按塊進行空間分配和釋放。\n",
    "##### 通過split操作將大內存塊分解成用戶需要的小內存塊。\n",
    "##### 通過merge操作合併小的內存塊，做到內存碎片回收\n",
    "##### 通過bin這個抽象數據結構實現對空閒塊高效管理。"
   ]
  },
  {
   "cell_type": "code",
   "execution_count": 7,
   "metadata": {},
   "outputs": [],
   "source": [
    "from keras.backend.tensorflow_backend import set_session\n",
    "\n",
    "config=tf.compat.v1.ConfigProto()\n",
    "config.gpu_options.allocator_type = 'BFC'\n",
    "tf.compat.v1.keras.backend.set_session(config)"
   ]
  },
  {
   "cell_type": "markdown",
   "metadata": {},
   "source": [
    "### AlexNet"
   ]
  },
  {
   "cell_type": "code",
   "execution_count": null,
   "metadata": {},
   "outputs": [],
   "source": [
    "model = Sequential()\n",
    "model.add(Conv2D(96, (11, 11), strides=(4, 4), input_shape=(224, 224, 3), padding='valid',\n",
    "                 activation='relu', kernel_initializer='uniform'))\n",
    "model.add(MaxPooling2D(pool_size=(3, 3), strides=(2, 2)))\n",
    "model.add(Conv2D(256, (5, 5), strides=(1, 1), padding='same',activation='relu', kernel_initializer='uniform'))\n",
    "model.add(MaxPooling2D(pool_size=(3, 3), strides=(2, 2)))\n",
    "model.add(Conv2D(384, (3, 3), strides=(1, 1), padding='same', activation='relu', kernel_initializer='uniform'))\n",
    "model.add(Conv2D(384, (3, 3), strides=(1, 1), padding='same', activation='relu', kernel_initializer='uniform'))\n",
    "model.add(Conv2D(256, (3, 3), strides=(1, 1), padding='same', activation='relu', kernel_initializer='uniform'))\n",
    "model.add(MaxPooling2D(pool_size=(3, 3), strides=(2, 2)))\n",
    "model.add(Flatten())\n",
    "model.add(Dense(4096, activation='relu'))\n",
    "model.add(Dropout(0.5))\n",
    "model.add(Dense(4096, activation='relu'))\n",
    "model.add(Dropout(0.5))\n",
    "model.add(Dense(1000, activation='softmax'))\n",
    "\n",
    "model.add(BatchNormalization())\n",
    "#     model.add(Dense(512, activation='sigmoid'))\n",
    "#     model.add(Dropout(0.25))\n",
    "#     model.add(BatchNormalization())\n",
    "model.add(Dense(128, activation='relu'))\n",
    "model.add(Dropout(0.25))\n",
    "model.add(BatchNormalization())\n",
    "model.add(Dense(64, activation='sigmoid'))\n",
    "model.add(Dropout(0.2))\n",
    "model.add(BatchNormalization())\n",
    "model.add(Dense(1, activation='sigmoid', name='output'))\n",
    "\n",
    "model.compile(loss='binary_crossentropy',\n",
    "              optimizer=Adam(learning_rate=0.0001),\n",
    "              metrics=[tf.keras.metrics.binary_crossentropy, 'accuracy'])\n",
    "\n",
    "print(model.summary())"
   ]
  },
  {
   "cell_type": "code",
   "execution_count": 9,
   "metadata": {},
   "outputs": [
    {
     "name": "stdout",
     "output_type": "stream",
     "text": [
      "Epoch 1/15\n",
      "70/70 [==============================] - 95s 1s/step - loss: 0.7787 - binary_crossentropy: 0.7745 - accuracy: 0.5940 - val_loss: 0.5187 - val_binary_crossentropy: 0.6129 - val_accuracy: 0.7430\n",
      "Epoch 2/15\n",
      "70/70 [==============================] - 83s 1s/step - loss: 0.4831 - binary_crossentropy: 0.4846 - accuracy: 0.8006 - val_loss: 0.5264 - val_binary_crossentropy: 0.6126 - val_accuracy: 0.7430\n",
      "Epoch 3/15\n",
      "70/70 [==============================] - 83s 1s/step - loss: 0.3382 - binary_crossentropy: 0.3382 - accuracy: 0.8877 - val_loss: 0.5004 - val_binary_crossentropy: 0.6033 - val_accuracy: 0.7430\n",
      "Epoch 4/15\n",
      "70/70 [==============================] - 82s 1s/step - loss: 0.3037 - binary_crossentropy: 0.3039 - accuracy: 0.9023 - val_loss: 0.4541 - val_binary_crossentropy: 0.5754 - val_accuracy: 0.7468\n",
      "Epoch 5/15\n",
      "70/70 [==============================] - 83s 1s/step - loss: 0.2688 - binary_crossentropy: 0.2628 - accuracy: 0.9172 - val_loss: 0.4174 - val_binary_crossentropy: 0.4652 - val_accuracy: 0.8683\n",
      "Epoch 6/15\n",
      "70/70 [==============================] - 84s 1s/step - loss: 0.2164 - binary_crossentropy: 0.2175 - accuracy: 0.9389 - val_loss: 0.4055 - val_binary_crossentropy: 0.3353 - val_accuracy: 0.9361\n",
      "Epoch 7/15\n",
      "70/70 [==============================] - 82s 1s/step - loss: 0.2034 - binary_crossentropy: 0.2046 - accuracy: 0.9405 - val_loss: 0.1602 - val_binary_crossentropy: 0.4301 - val_accuracy: 0.7928\n",
      "Epoch 8/15\n",
      "70/70 [==============================] - 83s 1s/step - loss: 0.1919 - binary_crossentropy: 0.1931 - accuracy: 0.9486 - val_loss: 0.1085 - val_binary_crossentropy: 0.3446 - val_accuracy: 0.8414\n",
      "Epoch 9/15\n",
      "70/70 [==============================] - 85s 1s/step - loss: 0.1822 - binary_crossentropy: 0.1836 - accuracy: 0.9531 - val_loss: 0.5104 - val_binary_crossentropy: 0.2856 - val_accuracy: 0.9246\n",
      "Epoch 10/15\n",
      "70/70 [==============================] - 83s 1s/step - loss: 0.1628 - binary_crossentropy: 0.1639 - accuracy: 0.9542 - val_loss: 1.2668 - val_binary_crossentropy: 0.2680 - val_accuracy: 0.9258\n",
      "Epoch 11/15\n",
      "70/70 [==============================] - 83s 1s/step - loss: 0.1635 - binary_crossentropy: 0.1638 - accuracy: 0.9581 - val_loss: 0.0701 - val_binary_crossentropy: 0.1165 - val_accuracy: 0.9578\n",
      "Epoch 12/15\n",
      "70/70 [==============================] - 84s 1s/step - loss: 0.1474 - binary_crossentropy: 0.1472 - accuracy: 0.9587 - val_loss: 0.0246 - val_binary_crossentropy: 0.2099 - val_accuracy: 0.9105\n",
      "Epoch 13/15\n",
      "70/70 [==============================] - 2144s 31s/step - loss: 0.1586 - binary_crossentropy: 0.1527 - accuracy: 0.9578 - val_loss: 0.0356 - val_binary_crossentropy: 0.3651 - val_accuracy: 0.8568\n",
      "Epoch 14/15\n",
      "70/70 [==============================] - 87s 1s/step - loss: 0.1469 - binary_crossentropy: 0.1483 - accuracy: 0.9594 - val_loss: 0.0240 - val_binary_crossentropy: 0.1521 - val_accuracy: 0.9412\n",
      "Epoch 15/15\n",
      "70/70 [==============================] - 87s 1s/step - loss: 0.1489 - binary_crossentropy: 0.1499 - accuracy: 0.9594 - val_loss: 7.6828 - val_binary_crossentropy: 0.5483 - val_accuracy: 0.8708\n",
      "\n",
      "AlexNet: 3329.4245777130127 seconds.\n"
     ]
    }
   ],
   "source": [
    "np.random.seed(101)\n",
    "model_ckpt = ModelCheckpoint('./models/Alexnet_Adam.h5', monitor='val_acc', save_best_only=True)\n",
    "\n",
    "# set_session(tf.Session(config=config))\n",
    "start = time.time()\n",
    "\n",
    "model_alexnet = model.fit(train_generator,\n",
    "                          epochs=15,\n",
    "                          validation_data=val_generator,\n",
    "                          callbacks=[model_ckpt])\n",
    "end = time.time()\n",
    "\n",
    "print('\\nAlexNet: {0} seconds.'.format(end - start))\n",
    "model.save('./models/Alexnet_Adam_last.h5')\n",
    "\n",
    "history_alexnet = pd.DataFrame(model_alexnet.history)\n",
    "with open('./history/Alexnet_Adam_hist.json', 'w') as f:\n",
    "    history_alexnet.to_json(f)"
   ]
  },
  {
   "cell_type": "code",
   "execution_count": 25,
   "metadata": {},
   "outputs": [
    {
     "name": "stdout",
     "output_type": "stream",
     "text": [
      "Average Training Accuracy 0.90870553\n",
      "Average Validation Accuracy 0.8534526864687602\n"
     ]
    }
   ],
   "source": [
    "hist = model_alexnet.history\n",
    "print('Average Training Accuracy', np.average(hist['accuracy']))\n",
    "print('Average Validation Accuracy', np.average(hist['val_accuracy']))"
   ]
  },
  {
   "cell_type": "code",
   "execution_count": 26,
   "metadata": {},
   "outputs": [
    {
     "data": {
      "image/png": "[encoded data removed]",
      "text/plain": [
       "<Figure size 1080x360 with 2 Axes>"
      ]
     },
     "metadata": {
      "needs_background": "light"
     },
     "output_type": "display_data"
    }
   ],
   "source": [
    "acc_loss(hist, './images/Alexnet_Adam.png')"
   ]
  },
  {
   "cell_type": "code",
   "execution_count": 10,
   "metadata": {},
   "outputs": [
    {
     "name": "stdout",
     "output_type": "stream",
     "text": [
      "624/624 [==============================] - 12s 19ms/step\n",
      "AlexNet - Test loss: 0.5880874395370483\n",
      "AlexNet - Test accuracy: 0.9230769276618958\n"
     ]
    }
   ],
   "source": [
    "score = model.evaluate(test_generator, verbose=1)\n",
    "print('AlexNet - Test loss:', score[0])\n",
    "print('AlexNet - Test accuracy:', score[2])\n",
    "predict = np.ravel(model.predict_classes(test_generator, batch_size=None, verbose=0))"
   ]
  },
  {
   "cell_type": "code",
   "execution_count": 11,
   "metadata": {},
   "outputs": [
    {
     "name": "stdout",
     "output_type": "stream",
     "text": [
      "           AlexNet_Adam\n",
      "Accuracy       0.923077\n",
      "Recall         0.930800\n",
      "Precision      0.910300\n",
      "F1             0.920400\n"
     ]
    },
    {
     "data": {
      "image/png": "[encoded data removed]",
      "text/plain": [
       "<Figure size 432x288 with 1 Axes>"
      ]
     },
     "metadata": {
      "needs_background": "light"
     },
     "output_type": "display_data"
    }
   ],
   "source": [
    "model_result(predict, 'AlexNet_Adam')"
   ]
  },
  {
   "cell_type": "code",
   "execution_count": 8,
   "metadata": {},
   "outputs": [],
   "source": [
    "model = load_model('./models/Alexnet_Adam_last.h5')"
   ]
  },
  {
   "cell_type": "code",
   "execution_count": 9,
   "metadata": {},
   "outputs": [],
   "source": [
    "model.compile(loss='binary_crossentropy',\n",
    "              optimizer=Adam(learning_rate=0.0001),\n",
    "              metrics=[tf.keras.metrics.binary_crossentropy, 'accuracy'])"
   ]
  },
  {
   "cell_type": "markdown",
   "metadata": {},
   "source": [
    "### VGG19"
   ]
  },
  {
   "cell_type": "code",
   "execution_count": 12,
   "metadata": {},
   "outputs": [],
   "source": [
    "from keras.applications.vgg19 import VGG19"
   ]
  },
  {
   "cell_type": "code",
   "execution_count": 19,
   "metadata": {},
   "outputs": [
    {
     "name": "stdout",
     "output_type": "stream",
     "text": [
      "Model: \"sequential_3\"\n",
      "_________________________________________________________________\n",
      "Layer (type)                 Output Shape              Param #   \n",
      "=================================================================\n",
      "vgg19 (Model)                (None, 7, 7, 512)         20024384  \n",
      "_________________________________________________________________\n",
      "flatten_3 (Flatten)          (None, 25088)             0         \n",
      "_________________________________________________________________\n",
      "batch_normalization_7 (Batch (None, 25088)             100352    \n",
      "_________________________________________________________________\n",
      "dense_8 (Dense)              (None, 128)               3211392   \n",
      "_________________________________________________________________\n",
      "dropout_7 (Dropout)          (None, 128)               0         \n",
      "_________________________________________________________________\n",
      "batch_normalization_8 (Batch (None, 128)               512       \n",
      "_________________________________________________________________\n",
      "dense_9 (Dense)              (None, 32)                4128      \n",
      "_________________________________________________________________\n",
      "dropout_8 (Dropout)          (None, 32)                0         \n",
      "_________________________________________________________________\n",
      "batch_normalization_9 (Batch (None, 32)                128       \n",
      "_________________________________________________________________\n",
      "output (Dense)               (None, 1)                 33        \n",
      "=================================================================\n",
      "Total params: 23,340,929\n",
      "Trainable params: 3,266,049\n",
      "Non-trainable params: 20,074,880\n",
      "_________________________________________________________________\n",
      "None\n"
     ]
    }
   ],
   "source": [
    "model = Sequential()\n",
    "\n",
    "vgg_model = VGG19(weights='imagenet', include_top=False, input_shape=(224, 224, 3))\n",
    "vgg_model.trainable = False\n",
    "\n",
    "model.add(vgg_model)\n",
    "model.add(Flatten())\n",
    "model.add(BatchNormalization())\n",
    "model.add(Dense(128, activation='relu'))\n",
    "model.add(Dropout(0.5))\n",
    "model.add(BatchNormalization())\n",
    "model.add(Dense(32, activation='sigmoid'))\n",
    "model.add(Dropout(0.25))\n",
    "model.add(BatchNormalization())\n",
    "model.add(Dense(1, activation='sigmoid', name='output'))\n",
    "\n",
    "model.compile(loss='binary_crossentropy',\n",
    "              optimizer=Adam(learning_rate=0.0001), \n",
    "              metrics=[tf.keras.metrics.binary_crossentropy,'accuracy'])\n",
    "\n",
    "print(model.summary())"
   ]
  },
  {
   "cell_type": "code",
   "execution_count": 20,
   "metadata": {},
   "outputs": [
    {
     "name": "stdout",
     "output_type": "stream",
     "text": [
      "Epoch 1/15\n",
      "70/70 [==============================] - 99s 1s/step - loss: 0.4261 - binary_crossentropy: 0.4263 - accuracy: 0.8218 - val_loss: 0.7737 - val_binary_crossentropy: 0.6181 - val_accuracy: 0.6240\n",
      "Epoch 2/15\n",
      "70/70 [==============================] - 89s 1s/step - loss: 0.3181 - binary_crossentropy: 0.3195 - accuracy: 0.8884 - val_loss: 0.9453 - val_binary_crossentropy: 0.4830 - val_accuracy: 0.8632\n",
      "Epoch 3/15\n",
      "70/70 [==============================] - 92s 1s/step - loss: 0.2697 - binary_crossentropy: 0.2718 - accuracy: 0.9109 - val_loss: 0.4060 - val_binary_crossentropy: 0.3359 - val_accuracy: 0.9297\n",
      "Epoch 4/15\n",
      "70/70 [==============================] - 88s 1s/step - loss: 0.2542 - binary_crossentropy: 0.2527 - accuracy: 0.9231 - val_loss: 0.6444 - val_binary_crossentropy: 0.2304 - val_accuracy: 0.9565\n",
      "Epoch 5/15\n",
      "70/70 [==============================] - 88s 1s/step - loss: 0.2290 - binary_crossentropy: 0.2271 - accuracy: 0.9375 - val_loss: 0.1578 - val_binary_crossentropy: 0.1882 - val_accuracy: 0.9565\n",
      "Epoch 6/15\n",
      "70/70 [==============================] - 93s 1s/step - loss: 0.1998 - binary_crossentropy: 0.2006 - accuracy: 0.9511 - val_loss: 0.7094 - val_binary_crossentropy: 0.1458 - val_accuracy: 0.9629\n",
      "Epoch 7/15\n",
      "70/70 [==============================] - 90s 1s/step - loss: 0.1826 - binary_crossentropy: 0.1808 - accuracy: 0.9549 - val_loss: 0.0923 - val_binary_crossentropy: 0.1489 - val_accuracy: 0.9565\n",
      "Epoch 8/15\n",
      "70/70 [==============================] - 94s 1s/step - loss: 0.1697 - binary_crossentropy: 0.1687 - accuracy: 0.9614 - val_loss: 1.1958 - val_binary_crossentropy: 0.1181 - val_accuracy: 0.9731\n",
      "Epoch 9/15\n",
      "70/70 [==============================] - 98s 1s/step - loss: 0.1461 - binary_crossentropy: 0.1470 - accuracy: 0.9680 - val_loss: 0.2857 - val_binary_crossentropy: 0.1227 - val_accuracy: 0.9642\n",
      "Epoch 10/15\n",
      "70/70 [==============================] - 98s 1s/step - loss: 0.1455 - binary_crossentropy: 0.1454 - accuracy: 0.9675 - val_loss: 0.2011 - val_binary_crossentropy: 0.1293 - val_accuracy: 0.9629\n",
      "Epoch 11/15\n",
      "70/70 [==============================] - 96s 1s/step - loss: 0.1452 - binary_crossentropy: 0.1460 - accuracy: 0.9655 - val_loss: 0.1291 - val_binary_crossentropy: 0.1097 - val_accuracy: 0.9655\n",
      "Epoch 12/15\n",
      "70/70 [==============================] - 103s 1s/step - loss: 0.1241 - binary_crossentropy: 0.1228 - accuracy: 0.9732 - val_loss: 0.0480 - val_binary_crossentropy: 0.1558 - val_accuracy: 0.9591\n",
      "Epoch 13/15\n",
      "70/70 [==============================] - 97s 1s/step - loss: 0.1377 - binary_crossentropy: 0.1367 - accuracy: 0.9684 - val_loss: 0.1551 - val_binary_crossentropy: 0.1341 - val_accuracy: 0.9629\n",
      "Epoch 14/15\n",
      "70/70 [==============================] - 98s 1s/step - loss: 0.1200 - binary_crossentropy: 0.1209 - accuracy: 0.9714 - val_loss: 0.4125 - val_binary_crossentropy: 0.1447 - val_accuracy: 0.9616\n",
      "Epoch 15/15\n",
      "70/70 [==============================] - 102s 1s/step - loss: 0.1124 - binary_crossentropy: 0.1133 - accuracy: 0.9734 - val_loss: 0.0526 - val_binary_crossentropy: 0.1102 - val_accuracy: 0.9655\n",
      "\n",
      "VGG19 took 1424.593945980072 seconds.\n"
     ]
    }
   ],
   "source": [
    "np.random.seed(101)\n",
    "# earlystop = EarlyStopping(monitor='val_acc', patience=5, mode='max', verbose=1)\n",
    "model_ckpt = ModelCheckpoint(filepath='./models/Vgg19_Adam.h5', monitor='val_acc', save_best_only=True)\n",
    "\n",
    "start = time.time()\n",
    "\n",
    "model_vgg19 = model.fit(train_generator, \n",
    "                        epochs=15,\n",
    "                        validation_data=val_generator,\n",
    "                        callbacks=[model_ckpt])\n",
    "\n",
    "end = time.time()\n",
    "print('\\nVGG19 took {0} seconds.'.format(end - start))\n",
    "\n",
    "model.save('./models/Vgg19_Adam_last.h5')\n",
    "\n",
    "history_vgg19 = pd.DataFrame(model_vgg19.history)\n",
    "with open('./history/Vgg19_Adam_hist.json', 'w') as f:\n",
    "    history_vgg19.to_json(f)"
   ]
  },
  {
   "cell_type": "code",
   "execution_count": 31,
   "metadata": {},
   "outputs": [
    {
     "name": "stdout",
     "output_type": "stream",
     "text": [
      "Average Training Accuracy 0.94242966\n",
      "Average Validation Accuracy 0.9309462944666544\n"
     ]
    }
   ],
   "source": [
    "hist = model_vgg19.history\n",
    "print('Average Training Accuracy', np.average(hist['accuracy']))\n",
    "print('Average Validation Accuracy', np.average(hist['val_accuracy']))"
   ]
  },
  {
   "cell_type": "code",
   "execution_count": 32,
   "metadata": {},
   "outputs": [
    {
     "data": {
      "image/png": "[encoded data removed]",
      "text/plain": [
       "<Figure size 1080x360 with 2 Axes>"
      ]
     },
     "metadata": {
      "needs_background": "light"
     },
     "output_type": "display_data"
    }
   ],
   "source": [
    "acc_loss(hist, './images/Vgg19_Adam.png')"
   ]
  },
  {
   "cell_type": "code",
   "execution_count": 15,
   "metadata": {},
   "outputs": [
    {
     "name": "stdout",
     "output_type": "stream",
     "text": [
      "624/624 [==============================] - 13s 20ms/step\n",
      "Vgg19 - Test loss: 0.019687414169311523\n",
      "Vgg19 - Test accuracy: 0.8846153616905212\n"
     ]
    }
   ],
   "source": [
    "score = model.evaluate(test_generator, verbose=1)\n",
    "print('Vgg19 - Test loss:', score[0])\n",
    "print('Vgg19 - Test accuracy:', score[2])\n",
    "predict = (model.predict_classes(test_generator, batch_size = None, verbose=0)).ravel()"
   ]
  },
  {
   "cell_type": "code",
   "execution_count": 16,
   "metadata": {},
   "outputs": [
    {
     "name": "stdout",
     "output_type": "stream",
     "text": [
      "           Vgg19_Adam\n",
      "Accuracy     0.884615\n",
      "Recall       0.984600\n",
      "Precision    0.717900\n",
      "F1           0.830400\n"
     ]
    },
    {
     "data": {
      "image/png": "[encoded data removed]",
      "text/plain": [
       "<Figure size 432x288 with 1 Axes>"
      ]
     },
     "metadata": {
      "needs_background": "light"
     },
     "output_type": "display_data"
    }
   ],
   "source": [
    "model_result(predict, 'Vgg19_Adam')"
   ]
  },
  {
   "cell_type": "code",
   "execution_count": 13,
   "metadata": {},
   "outputs": [],
   "source": [
    "model = load_model('./models/Vgg19_Adam_last.h5')"
   ]
  },
  {
   "cell_type": "code",
   "execution_count": 14,
   "metadata": {},
   "outputs": [],
   "source": [
    "model.compile(loss='binary_crossentropy',\n",
    "              optimizer=Adam(learning_rate=0.0001), \n",
    "              metrics=[tf.keras.metrics.binary_crossentropy,'accuracy'])"
   ]
  },
  {
   "cell_type": "code",
   "execution_count": null,
   "metadata": {},
   "outputs": [],
   "source": []
  }
 ],
 "metadata": {
  "kernelspec": {
   "display_name": "Python 3",
   "language": "python",
   "name": "python3"
  },
  "language_info": {
   "codemirror_mode": {
    "name": "ipython",
    "version": 3
   },
   "file_extension": ".py",
   "mimetype": "text/x-python",
   "name": "python",
   "nbconvert_exporter": "python",
   "pygments_lexer": "ipython3",
   "version": "3.7.1"
  }
 },
 "nbformat": 4,
 "nbformat_minor": 4
}
