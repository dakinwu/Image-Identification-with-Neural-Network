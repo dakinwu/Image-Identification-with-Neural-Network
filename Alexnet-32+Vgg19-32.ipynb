{
 "cells": [
  {
   "cell_type": "markdown",
   "metadata": {},
   "source": [
    "# Final Project"
   ]
  },
  {
   "cell_type": "code",
   "execution_count": 1,
   "metadata": {},
   "outputs": [],
   "source": [
    "import warnings\n",
    "warnings.filterwarnings('ignore')"
   ]
  },
  {
   "cell_type": "code",
   "execution_count": 2,
   "metadata": {},
   "outputs": [
    {
     "name": "stderr",
     "output_type": "stream",
     "text": [
      "Using TensorFlow backend.\n"
     ]
    }
   ],
   "source": [
    "import os\n",
    "import numpy as np\n",
    "import pandas as pd\n",
    "import matplotlib.pyplot as plt\n",
    "import time\n",
    "import json\n",
    "import tensorflow as tf\n",
    "import seaborn as sns\n",
    "from sklearn.metrics import confusion_matrix\n",
    "from keras.models import Sequential, Model, load_model\n",
    "from keras.layers import Dense, Dropout, Flatten, Activation, BatchNormalization\n",
    "from keras.layers.convolutional import Conv2D, MaxPooling2D \n",
    "from keras.preprocessing.image import ImageDataGenerator\n",
    "from keras.optimizers import RMSprop, Adam\n",
    "from keras.callbacks import EarlyStopping, ModelCheckpoint"
   ]
  },
  {
   "cell_type": "code",
   "execution_count": 3,
   "metadata": {},
   "outputs": [],
   "source": [
    "def acc_loss(history, pdir):    \n",
    "    fig, (ax1, ax2) = plt.subplots(1, 2, figsize=(15, 5))\n",
    "    ax1.plot(history['accuracy'], label='Training')\n",
    "    ax1.plot(history['val_accuracy'], label='Validation')\n",
    "    ax1.grid()\n",
    "    ax1.set_title('Accuracy', fontsize=15)\n",
    "    ax1.set_xlabel('epoch', fontsize=12)\n",
    "    ax1.set_ylabel('accuracy', fontsize=12)\n",
    "    ax1.legend(loc='top left')\n",
    "    ax2.plot(history['loss'], label='Training')\n",
    "    ax2.plot(history['val_loss'], label='Validation')\n",
    "    ax2.grid()\n",
    "    ax2.set_title('Loss', fontsize=15)\n",
    "    ax2.set_xlabel('epoch', fontsize=12)\n",
    "    ax2.set_ylabel('loss', fontsize=12)\n",
    "    ax2.legend(loc='top left')\n",
    "    fig.suptitle('Training result', fontsize=18)\n",
    "    fig.savefig(pdir, bbox_inches='tight')"
   ]
  },
  {
   "cell_type": "code",
   "execution_count": 4,
   "metadata": {},
   "outputs": [
    {
     "name": "stdout",
     "output_type": "stream",
     "text": [
      "Found 4434 images belonging to 2 classes.\n",
      "Found 782 images belonging to 2 classes.\n",
      "Found 624 images belonging to 2 classes.\n"
     ]
    }
   ],
   "source": [
    "imgX, imgY, num_classes = 224, 224, 2\n",
    "\n",
    "## image data generator: resize...etc.\n",
    "train_datagen = tf.keras.preprocessing.image.ImageDataGenerator(\n",
    "    rescale=1./255,\n",
    "    width_shift_range=0.05,\n",
    "    height_shift_range=0.15,\n",
    "    rotation_range=10,\n",
    "    zoom_range=0.1,\n",
    "    validation_split=0.15    # validation split from training data\n",
    ")\n",
    "\n",
    "test_datagen = tf.keras.preprocessing.image.ImageDataGenerator(rescale=1./255)\n",
    "\n",
    "batch_size = 32\n",
    "train_generator = train_datagen.flow_from_directory(\n",
    "    directory='train',\n",
    "    target_size=(imgX, imgY),\n",
    "    batch_size=batch_size,\n",
    "    class_mode='binary',\n",
    "    shuffle=True,\n",
    "    subset='training'    # originated from train_datagen set as「training data」.\n",
    ")\n",
    "\n",
    "val_generator = train_datagen.flow_from_directory(\n",
    "    directory='train',\n",
    "    target_size=(imgX, imgY),\n",
    "    batch_size=1,\n",
    "    class_mode='binary',\n",
    "    shuffle=False,\n",
    "    subset='validation'    ## originated from train_datagen set as「validation data」.\n",
    ")\n",
    "\n",
    "test_generator = test_datagen.flow_from_directory(\n",
    "    directory='test', \n",
    "    target_size=(imgX, imgY),\n",
    "    batch_size=1,\n",
    "    class_mode='binary',\n",
    "    shuffle=False\n",
    ")"
   ]
  },
  {
   "cell_type": "code",
   "execution_count": 5,
   "metadata": {},
   "outputs": [],
   "source": [
    "def model_result(predict, name, test=test_generator.classes):\n",
    "    mat1 = confusion_matrix(test, predict)\n",
    "    sns.heatmap(mat1.T, square=True, annot=True, fmt='d', cbar=False,\n",
    "                xticklabels=train_generator.class_indices,\n",
    "                yticklabels=train_generator.class_indices, cmap=\"YlGnBu\")\n",
    "    accuracy = np.sum(test == predict) / len(test)\n",
    "    plt.xlabel('Original', fontsize=14)\n",
    "    plt.ylabel('Predicted', fontsize=14)\n",
    "    plt.title(str(name) + ' ACC:' + str(round(accuracy,4)))\n",
    "    plt.savefig('./images/' + name + '_result.png', bbox_inches='tight')\n",
    "    tn, fp, fn, tp = confusion_matrix(test, predict).ravel()\n",
    "    recall  = round((tp / (tp + fn)), 4) # sensitivity\n",
    "    precision  = round((tn / (tn + fp)), 4) # specificity\n",
    "    f1 = round((2 / (1/recall + 1/precision)), 4)\n",
    "    report = {name: [accuracy, recall, precision, f1]}\n",
    "    report = pd.DataFrame(report, index=['Accuracy', 'Recall', 'Precision', 'F1'])\n",
    "    print(report)"
   ]
  },
  {
   "cell_type": "markdown",
   "metadata": {},
   "source": [
    "# References:\n",
    "\n",
    "https://www.tensorflow.org/guide/keras/save_and_serialize\n",
    "\n",
    "https://blog.csdn.net/weixin_30826761/article/details/95509779\n",
    "\n",
    "https://blog.csdn.net/sinat_26917383/article/details/72859145\n",
    "\n",
    "https://blog.csdn.net/sunbaigui/article/details/50807418\n",
    "\n",
    "https://blog.csdn.net/langb2014/article/details/52787095\n",
    "\n",
    "https://blog.csdn.net/cv_family_z/article/details/50789805\n",
    "\n",
    "https://blog.csdn.net/qq_36330643/article/details/77367709\n",
    "\n",
    "https://blog.csdn.net/wmy199216/article/details/71171401 \n",
    "\n",
    "https://blog.csdn.net/weixin_41967600/article/details/105616647#GoogleNet%C2%A0\n",
    "\n",
    "https://keras-cn.readthedocs.io/en/latest/other/application/\n",
    "\n",
    "https://gist.github.com/baraldilorenzo/8d096f48a1be4a2d660d"
   ]
  },
  {
   "cell_type": "code",
   "execution_count": 6,
   "metadata": {},
   "outputs": [],
   "source": [
    "from numba import cuda\n",
    "cuda.select_device(0)\n",
    "cuda.close()"
   ]
  },
  {
   "cell_type": "markdown",
   "metadata": {},
   "source": [
    "##### 關於BFC算法：\n",
    "##### 將內存分塊管理，按塊進行空間分配和釋放。\n",
    "##### 通過split操作將大內存塊分解成用戶需要的小內存塊。\n",
    "##### 通過merge操作合併小的內存塊，做到內存碎片回收\n",
    "##### 通過bin這個抽象數據結構實現對空閒塊高效管理。"
   ]
  },
  {
   "cell_type": "code",
   "execution_count": 7,
   "metadata": {},
   "outputs": [],
   "source": [
    "from keras.backend.tensorflow_backend import set_session\n",
    "\n",
    "config=tf.compat.v1.ConfigProto()\n",
    "config.gpu_options.allocator_type = 'BFC'\n",
    "tf.compat.v1.keras.backend.set_session(config)"
   ]
  },
  {
   "cell_type": "markdown",
   "metadata": {},
   "source": [
    "### AlexNet"
   ]
  },
  {
   "cell_type": "code",
   "execution_count": 9,
   "metadata": {},
   "outputs": [
    {
     "name": "stdout",
     "output_type": "stream",
     "text": [
      "Model: \"sequential_1\"\n",
      "_________________________________________________________________\n",
      "Layer (type)                 Output Shape              Param #   \n",
      "=================================================================\n",
      "conv2d_1 (Conv2D)            (None, 54, 54, 96)        34944     \n",
      "_________________________________________________________________\n",
      "max_pooling2d_1 (MaxPooling2 (None, 26, 26, 96)        0         \n",
      "_________________________________________________________________\n",
      "conv2d_2 (Conv2D)            (None, 26, 26, 256)       614656    \n",
      "_________________________________________________________________\n",
      "max_pooling2d_2 (MaxPooling2 (None, 12, 12, 256)       0         \n",
      "_________________________________________________________________\n",
      "conv2d_3 (Conv2D)            (None, 12, 12, 384)       885120    \n",
      "_________________________________________________________________\n",
      "conv2d_4 (Conv2D)            (None, 12, 12, 384)       1327488   \n",
      "_________________________________________________________________\n",
      "conv2d_5 (Conv2D)            (None, 12, 12, 256)       884992    \n",
      "_________________________________________________________________\n",
      "max_pooling2d_3 (MaxPooling2 (None, 5, 5, 256)         0         \n",
      "_________________________________________________________________\n",
      "flatten_1 (Flatten)          (None, 6400)              0         \n",
      "_________________________________________________________________\n",
      "dense_1 (Dense)              (None, 4096)              26218496  \n",
      "_________________________________________________________________\n",
      "dropout_1 (Dropout)          (None, 4096)              0         \n",
      "_________________________________________________________________\n",
      "dense_2 (Dense)              (None, 4096)              16781312  \n",
      "_________________________________________________________________\n",
      "dropout_2 (Dropout)          (None, 4096)              0         \n",
      "_________________________________________________________________\n",
      "dense_3 (Dense)              (None, 1000)              4097000   \n",
      "_________________________________________________________________\n",
      "batch_normalization_1 (Batch (None, 1000)              4000      \n",
      "_________________________________________________________________\n",
      "dense_4 (Dense)              (None, 128)               128128    \n",
      "_________________________________________________________________\n",
      "dropout_3 (Dropout)          (None, 128)               0         \n",
      "_________________________________________________________________\n",
      "batch_normalization_2 (Batch (None, 128)               512       \n",
      "_________________________________________________________________\n",
      "dense_5 (Dense)              (None, 64)                8256      \n",
      "_________________________________________________________________\n",
      "dropout_4 (Dropout)          (None, 64)                0         \n",
      "_________________________________________________________________\n",
      "batch_normalization_3 (Batch (None, 64)                256       \n",
      "_________________________________________________________________\n",
      "output (Dense)               (None, 1)                 65        \n",
      "=================================================================\n",
      "Total params: 50,985,225\n",
      "Trainable params: 50,982,841\n",
      "Non-trainable params: 2,384\n",
      "_________________________________________________________________\n",
      "None\n"
     ]
    }
   ],
   "source": [
    "model = Sequential()\n",
    "model.add(Conv2D(96, (11, 11), strides=(4, 4), input_shape=(224, 224, 3), padding='valid',\n",
    "                 activation='relu', kernel_initializer='uniform'))\n",
    "model.add(MaxPooling2D(pool_size=(3, 3), strides=(2, 2)))\n",
    "model.add(Conv2D(256, (5, 5), strides=(1, 1), padding='same',activation='relu', kernel_initializer='uniform'))\n",
    "model.add(MaxPooling2D(pool_size=(3, 3), strides=(2, 2)))\n",
    "model.add(Conv2D(384, (3, 3), strides=(1, 1), padding='same', activation='relu', kernel_initializer='uniform'))\n",
    "model.add(Conv2D(384, (3, 3), strides=(1, 1), padding='same', activation='relu', kernel_initializer='uniform'))\n",
    "model.add(Conv2D(256, (3, 3), strides=(1, 1), padding='same', activation='relu', kernel_initializer='uniform'))\n",
    "model.add(MaxPooling2D(pool_size=(3, 3), strides=(2, 2)))\n",
    "model.add(Flatten())\n",
    "model.add(Dense(4096, activation='relu'))\n",
    "model.add(Dropout(0.5))\n",
    "model.add(Dense(4096, activation='relu'))\n",
    "model.add(Dropout(0.5))\n",
    "model.add(Dense(1000, activation='softmax'))\n",
    "\n",
    "model.add(BatchNormalization())\n",
    "#     model.add(Dense(512, activation='sigmoid'))\n",
    "#     model.add(Dropout(0.25))\n",
    "#     model.add(BatchNormalization())\n",
    "model.add(Dense(128, activation='relu'))\n",
    "model.add(Dropout(0.25))\n",
    "model.add(BatchNormalization())\n",
    "model.add(Dense(64, activation='sigmoid'))\n",
    "model.add(Dropout(0.2))\n",
    "model.add(BatchNormalization())\n",
    "model.add(Dense(1, activation='sigmoid', name='output'))\n",
    "\n",
    "model.compile(loss='binary_crossentropy',\n",
    "              optimizer=Adam(learning_rate=0.0001),\n",
    "              metrics=[tf.keras.metrics.binary_crossentropy, 'accuracy'])\n",
    "\n",
    "print(model.summary())"
   ]
  },
  {
   "cell_type": "code",
   "execution_count": 10,
   "metadata": {},
   "outputs": [
    {
     "name": "stdout",
     "output_type": "stream",
     "text": [
      "Epoch 1/15\n",
      "139/139 [==============================] - 182s 1s/step - loss: 0.6200 - binary_crossentropy: 0.6205 - accuracy: 0.7226 - val_loss: 0.6236 - val_binary_crossentropy: 0.6407 - val_accuracy: 0.7430\n",
      "Epoch 2/15\n",
      "139/139 [==============================] - 89s 641ms/step - loss: 0.3603 - binary_crossentropy: 0.3606 - accuracy: 0.8724 - val_loss: 0.6879 - val_binary_crossentropy: 0.5507 - val_accuracy: 0.8734\n",
      "Epoch 3/15\n",
      "139/139 [==============================] - 89s 640ms/step - loss: 0.2958 - binary_crossentropy: 0.2962 - accuracy: 0.9028 - val_loss: 0.9275 - val_binary_crossentropy: 0.3514 - val_accuracy: 0.9182\n",
      "Epoch 4/15\n",
      "139/139 [==============================] - 97s 694ms/step - loss: 0.2471 - binary_crossentropy: 0.2476 - accuracy: 0.9256 - val_loss: 4.0679 - val_binary_crossentropy: 0.2789 - val_accuracy: 0.9054\n",
      "Epoch 5/15\n",
      "139/139 [==============================] - 106s 765ms/step - loss: 0.2386 - binary_crossentropy: 0.2387 - accuracy: 0.9269 - val_loss: 7.7816 - val_binary_crossentropy: 0.2151 - val_accuracy: 0.9425\n",
      "Epoch 6/15\n",
      "139/139 [==============================] - 89s 641ms/step - loss: 0.2230 - binary_crossentropy: 0.2237 - accuracy: 0.9305 - val_loss: 0.3121 - val_binary_crossentropy: 0.1462 - val_accuracy: 0.9463\n",
      "Epoch 7/15\n",
      "139/139 [==============================] - 90s 648ms/step - loss: 0.2015 - binary_crossentropy: 0.2020 - accuracy: 0.9384 - val_loss: 0.0883 - val_binary_crossentropy: 0.2032 - val_accuracy: 0.9412\n",
      "Epoch 8/15\n",
      "139/139 [==============================] - 90s 650ms/step - loss: 0.2068 - binary_crossentropy: 0.2070 - accuracy: 0.9407 - val_loss: 0.6366 - val_binary_crossentropy: 0.1764 - val_accuracy: 0.9437\n",
      "Epoch 9/15\n",
      "139/139 [==============================] - 89s 643ms/step - loss: 0.1928 - binary_crossentropy: 0.1933 - accuracy: 0.9427 - val_loss: 0.3158 - val_binary_crossentropy: 0.1668 - val_accuracy: 0.9412\n",
      "Epoch 10/15\n",
      "139/139 [==============================] - 89s 644ms/step - loss: 0.1673 - binary_crossentropy: 0.1674 - accuracy: 0.9504 - val_loss: 0.2441 - val_binary_crossentropy: 0.2360 - val_accuracy: 0.9450\n",
      "Epoch 11/15\n",
      "139/139 [==============================] - 89s 643ms/step - loss: 0.1596 - binary_crossentropy: 0.1596 - accuracy: 0.9495 - val_loss: 9.4574 - val_binary_crossentropy: 0.7097 - val_accuracy: 0.8440\n",
      "Epoch 12/15\n",
      "139/139 [==============================] - 89s 643ms/step - loss: 0.1464 - binary_crossentropy: 0.1468 - accuracy: 0.9576 - val_loss: 1.3256 - val_binary_crossentropy: 0.3699 - val_accuracy: 0.9156\n",
      "Epoch 13/15\n",
      "139/139 [==============================] - 90s 646ms/step - loss: 0.1327 - binary_crossentropy: 0.1326 - accuracy: 0.9581 - val_loss: 0.2712 - val_binary_crossentropy: 0.1193 - val_accuracy: 0.9578\n",
      "Epoch 14/15\n",
      "139/139 [==============================] - 89s 644ms/step - loss: 0.1621 - binary_crossentropy: 0.1625 - accuracy: 0.9508 - val_loss: 0.2327 - val_binary_crossentropy: 0.0906 - val_accuracy: 0.9680\n",
      "Epoch 15/15\n",
      "139/139 [==============================] - 89s 642ms/step - loss: 0.1384 - binary_crossentropy: 0.1386 - accuracy: 0.9556 - val_loss: 0.3566 - val_binary_crossentropy: 0.1085 - val_accuracy: 0.9604\n",
      "\n",
      "AlexNet: 1459.45609664917 seconds.\n"
     ]
    }
   ],
   "source": [
    "np.random.seed(101)\n",
    "model_ckpt = ModelCheckpoint('./models/Alexnet_32.h5', monitor='val_acc', save_best_only=True)\n",
    "\n",
    "# set_session(tf.Session(config=config))\n",
    "start = time.time()\n",
    "\n",
    "model_alexnet = model.fit(train_generator,\n",
    "                          epochs=15,\n",
    "                          validation_data=val_generator,\n",
    "                          callbacks=[model_ckpt])\n",
    "end = time.time()\n",
    "\n",
    "print('\\nAlexNet: {0} seconds.'.format(end - start))\n",
    "model.save('./models/Alexnet_32_last.h5')\n",
    "\n",
    "history_alexnet = pd.DataFrame(model_alexnet.history)\n",
    "with open('./history/Alexnet_32_hist.json', 'w') as f:\n",
    "    history_alexnet.to_json(f)"
   ]
  },
  {
   "cell_type": "code",
   "execution_count": 11,
   "metadata": {},
   "outputs": [
    {
     "name": "stdout",
     "output_type": "stream",
     "text": [
      "Average Training Accuracy 0.9216358\n",
      "Average Validation Accuracy 0.916368289788564\n"
     ]
    }
   ],
   "source": [
    "hist = model_alexnet.history\n",
    "print('Average Training Accuracy', np.average(hist['accuracy']))\n",
    "print('Average Validation Accuracy', np.average(hist['val_accuracy']))"
   ]
  },
  {
   "cell_type": "code",
   "execution_count": 12,
   "metadata": {},
   "outputs": [
    {
     "data": {
      "image/png": "[encoded data removed]",
      "text/plain": [
       "<Figure size 1080x360 with 2 Axes>"
      ]
     },
     "metadata": {
      "needs_background": "light"
     },
     "output_type": "display_data"
    }
   ],
   "source": [
    "acc_loss(hist, './images/Alexnet_32.png')"
   ]
  },
  {
   "cell_type": "code",
   "execution_count": 10,
   "metadata": {},
   "outputs": [
    {
     "name": "stdout",
     "output_type": "stream",
     "text": [
      "624/624 [==============================] - 8s 13ms/step\n",
      "AlexNet - Test loss: 0.021849824115633965\n",
      "AlexNet - Test accuracy: 0.8509615659713745\n"
     ]
    }
   ],
   "source": [
    "score = model.evaluate(test_generator, verbose=1)\n",
    "print('AlexNet - Test loss:', score[0])\n",
    "print('AlexNet - Test accuracy:', score[2])\n",
    "predict = np.ravel(model.predict_classes(test_generator, batch_size=None, verbose=0))"
   ]
  },
  {
   "cell_type": "code",
   "execution_count": 11,
   "metadata": {},
   "outputs": [
    {
     "name": "stdout",
     "output_type": "stream",
     "text": [
      "           AlexNet_32\n",
      "Accuracy     0.850962\n",
      "Recall       0.997400\n",
      "Precision    0.606800\n",
      "F1           0.754500\n"
     ]
    },
    {
     "data": {
      "image/png": "[encoded data removed]",
      "text/plain": [
       "<Figure size 432x288 with 1 Axes>"
      ]
     },
     "metadata": {
      "needs_background": "light"
     },
     "output_type": "display_data"
    }
   ],
   "source": [
    "model_result(predict, 'AlexNet_32')"
   ]
  },
  {
   "cell_type": "code",
   "execution_count": 8,
   "metadata": {},
   "outputs": [],
   "source": [
    "model = load_model('./models/Alexnet_32_last.h5')"
   ]
  },
  {
   "cell_type": "code",
   "execution_count": 9,
   "metadata": {},
   "outputs": [],
   "source": [
    "model.compile(loss='binary_crossentropy',\n",
    "              optimizer=Adam(learning_rate=0.0001),\n",
    "              metrics=[tf.keras.metrics.binary_crossentropy, 'accuracy'])"
   ]
  },
  {
   "cell_type": "markdown",
   "metadata": {},
   "source": [
    "### VGG19"
   ]
  },
  {
   "cell_type": "code",
   "execution_count": 15,
   "metadata": {},
   "outputs": [],
   "source": [
    "from keras.applications.vgg19 import VGG19"
   ]
  },
  {
   "cell_type": "code",
   "execution_count": 16,
   "metadata": {},
   "outputs": [
    {
     "name": "stdout",
     "output_type": "stream",
     "text": [
      "Model: \"sequential_2\"\n",
      "_________________________________________________________________\n",
      "Layer (type)                 Output Shape              Param #   \n",
      "=================================================================\n",
      "vgg19 (Model)                (None, 7, 7, 512)         20024384  \n",
      "_________________________________________________________________\n",
      "flatten_2 (Flatten)          (None, 25088)             0         \n",
      "_________________________________________________________________\n",
      "batch_normalization_4 (Batch (None, 25088)             100352    \n",
      "_________________________________________________________________\n",
      "dense_6 (Dense)              (None, 128)               3211392   \n",
      "_________________________________________________________________\n",
      "dropout_5 (Dropout)          (None, 128)               0         \n",
      "_________________________________________________________________\n",
      "batch_normalization_5 (Batch (None, 128)               512       \n",
      "_________________________________________________________________\n",
      "dense_7 (Dense)              (None, 32)                4128      \n",
      "_________________________________________________________________\n",
      "dropout_6 (Dropout)          (None, 32)                0         \n",
      "_________________________________________________________________\n",
      "batch_normalization_6 (Batch (None, 32)                128       \n",
      "_________________________________________________________________\n",
      "output (Dense)               (None, 1)                 33        \n",
      "=================================================================\n",
      "Total params: 23,340,929\n",
      "Trainable params: 3,266,049\n",
      "Non-trainable params: 20,074,880\n",
      "_________________________________________________________________\n",
      "None\n"
     ]
    }
   ],
   "source": [
    "model = Sequential()\n",
    "\n",
    "vgg_model = VGG19(weights='imagenet', include_top=False, input_shape=(224, 224, 3))\n",
    "vgg_model.trainable = False\n",
    "\n",
    "model.add(vgg_model)\n",
    "model.add(Flatten())\n",
    "model.add(BatchNormalization())\n",
    "model.add(Dense(128, activation='relu'))\n",
    "model.add(Dropout(0.5))\n",
    "model.add(BatchNormalization())\n",
    "model.add(Dense(32, activation='sigmoid'))\n",
    "model.add(Dropout(0.25))\n",
    "model.add(BatchNormalization())\n",
    "model.add(Dense(1, activation='sigmoid', name='output'))\n",
    "\n",
    "model.compile(loss='binary_crossentropy',\n",
    "              optimizer=Adam(learning_rate=0.0001),\n",
    "              metrics=[tf.keras.metrics.binary_crossentropy,'accuracy'])\n",
    "\n",
    "print(model.summary())"
   ]
  },
  {
   "cell_type": "code",
   "execution_count": 17,
   "metadata": {},
   "outputs": [
    {
     "name": "stdout",
     "output_type": "stream",
     "text": [
      "Epoch 1/15\n",
      "139/139 [==============================] - 122s 877ms/step - loss: 0.4283 - binary_crossentropy: 0.4287 - accuracy: 0.8288 - val_loss: 0.9285 - val_binary_crossentropy: 0.4546 - val_accuracy: 0.8708\n",
      "Epoch 2/15\n",
      "139/139 [==============================] - 100s 717ms/step - loss: 0.3008 - binary_crossentropy: 0.3015 - accuracy: 0.8924 - val_loss: 0.5346 - val_binary_crossentropy: 0.2917 - val_accuracy: 0.9092\n",
      "Epoch 3/15\n",
      "139/139 [==============================] - 104s 751ms/step - loss: 0.2685 - binary_crossentropy: 0.2685 - accuracy: 0.9111 - val_loss: 0.1187 - val_binary_crossentropy: 0.1856 - val_accuracy: 0.9476\n",
      "Epoch 4/15\n",
      "139/139 [==============================] - 105s 757ms/step - loss: 0.2381 - binary_crossentropy: 0.2379 - accuracy: 0.9251 - val_loss: 0.2298 - val_binary_crossentropy: 0.1541 - val_accuracy: 0.9578\n",
      "Epoch 5/15\n",
      "139/139 [==============================] - 103s 744ms/step - loss: 0.2191 - binary_crossentropy: 0.2186 - accuracy: 0.9344 - val_loss: 0.9367 - val_binary_crossentropy: 0.1499 - val_accuracy: 0.9629\n",
      "Epoch 6/15\n",
      "139/139 [==============================] - 101s 730ms/step - loss: 0.1881 - binary_crossentropy: 0.1882 - accuracy: 0.9456 - val_loss: 0.3014 - val_binary_crossentropy: 0.1256 - val_accuracy: 0.9629\n",
      "Epoch 7/15\n",
      "139/139 [==============================] - 100s 716ms/step - loss: 0.1763 - binary_crossentropy: 0.1763 - accuracy: 0.9486 - val_loss: 0.0597 - val_binary_crossentropy: 0.1314 - val_accuracy: 0.9616\n",
      "Epoch 8/15\n",
      "139/139 [==============================] - 97s 701ms/step - loss: 0.1544 - binary_crossentropy: 0.1543 - accuracy: 0.9535 - val_loss: 0.1380 - val_binary_crossentropy: 0.1405 - val_accuracy: 0.9642\n",
      "Epoch 9/15\n",
      "139/139 [==============================] - 101s 724ms/step - loss: 0.1464 - binary_crossentropy: 0.1467 - accuracy: 0.9574 - val_loss: 1.1864 - val_binary_crossentropy: 0.1091 - val_accuracy: 0.9706\n",
      "Epoch 10/15\n",
      "139/139 [==============================] - 103s 740ms/step - loss: 0.1486 - binary_crossentropy: 0.1486 - accuracy: 0.9574 - val_loss: 0.3129 - val_binary_crossentropy: 0.0937 - val_accuracy: 0.9783\n",
      "Epoch 11/15\n",
      "139/139 [==============================] - 106s 760ms/step - loss: 0.1420 - binary_crossentropy: 0.1421 - accuracy: 0.9581 - val_loss: 0.2212 - val_binary_crossentropy: 0.1524 - val_accuracy: 0.9552\n",
      "Epoch 12/15\n",
      "139/139 [==============================] - 103s 744ms/step - loss: 0.1340 - binary_crossentropy: 0.1342 - accuracy: 0.9621 - val_loss: 0.0269 - val_binary_crossentropy: 0.1024 - val_accuracy: 0.9655\n",
      "Epoch 13/15\n",
      "139/139 [==============================] - 104s 750ms/step - loss: 0.1501 - binary_crossentropy: 0.1505 - accuracy: 0.9574 - val_loss: 0.0848 - val_binary_crossentropy: 0.0982 - val_accuracy: 0.9668\n",
      "Epoch 14/15\n",
      "139/139 [==============================] - 109s 787ms/step - loss: 0.1256 - binary_crossentropy: 0.1259 - accuracy: 0.9659 - val_loss: 0.0201 - val_binary_crossentropy: 0.1022 - val_accuracy: 0.9680\n",
      "Epoch 15/15\n",
      "139/139 [==============================] - 109s 785ms/step - loss: 0.1222 - binary_crossentropy: 0.1223 - accuracy: 0.9648 - val_loss: 0.1572 - val_binary_crossentropy: 0.1305 - val_accuracy: 0.9591\n",
      "\n",
      "VGG19 took 1569.5256624221802 seconds.\n"
     ]
    }
   ],
   "source": [
    "np.random.seed(101)\n",
    "# earlystop = EarlyStopping(monitor='val_acc', patience=5, mode='max', verbose=1)\n",
    "model_ckpt = ModelCheckpoint(filepath='./models/Vgg19_32.h5', monitor='val_acc', save_best_only=True)\n",
    "\n",
    "start = time.time()\n",
    "\n",
    "model_vgg19 = model.fit(train_generator,\n",
    "                        epochs=15,\n",
    "                        validation_data=val_generator,\n",
    "                        callbacks=[model_ckpt])\n",
    "\n",
    "end = time.time()\n",
    "print('\\nVGG19 took {0} seconds.'.format(end - start))\n",
    "\n",
    "model.save('./models/Vgg19_32_last.h5')\n",
    "\n",
    "history_vgg19 = pd.DataFrame(model_vgg19.history)\n",
    "with open('./history/Vgg19_32_hist.json', 'w') as f:\n",
    "    history_vgg19.to_json(f)"
   ]
  },
  {
   "cell_type": "code",
   "execution_count": 18,
   "metadata": {},
   "outputs": [
    {
     "name": "stdout",
     "output_type": "stream",
     "text": [
      "Average Training Accuracy 0.9375131\n",
      "Average Validation Accuracy 0.9533674359321594\n"
     ]
    }
   ],
   "source": [
    "hist = model_vgg19.history\n",
    "print('Average Training Accuracy', np.average(hist['accuracy']))\n",
    "print('Average Validation Accuracy', np.average(hist['val_accuracy']))"
   ]
  },
  {
   "cell_type": "code",
   "execution_count": 19,
   "metadata": {},
   "outputs": [
    {
     "data": {
      "image/png": "[encoded data removed]",
      "text/plain": [
       "<Figure size 1080x360 with 2 Axes>"
      ]
     },
     "metadata": {
      "needs_background": "light"
     },
     "output_type": "display_data"
    }
   ],
   "source": [
    "acc_loss(hist, './images/Vgg19_32.png')"
   ]
  },
  {
   "cell_type": "code",
   "execution_count": 15,
   "metadata": {},
   "outputs": [
    {
     "name": "stdout",
     "output_type": "stream",
     "text": [
      "624/624 [==============================] - 13s 21ms/step\n",
      "Vgg19 - Test loss: 0.03689192980527878\n",
      "Vgg19 - Test accuracy: 0.9006410241127014\n"
     ]
    }
   ],
   "source": [
    "score = model.evaluate(test_generator, verbose=1)\n",
    "print('Vgg19 - Test loss:', score[0])\n",
    "print('Vgg19 - Test accuracy:', score[2])\n",
    "predict = (model.predict_classes(test_generator, batch_size = None, verbose=0)).ravel()"
   ]
  },
  {
   "cell_type": "code",
   "execution_count": 16,
   "metadata": {},
   "outputs": [
    {
     "name": "stdout",
     "output_type": "stream",
     "text": [
      "           Vgg19_32\n",
      "Accuracy   0.900641\n",
      "Recall     0.987200\n",
      "Precision  0.756400\n",
      "F1         0.856500\n"
     ]
    },
    {
     "data": {
      "image/png": "[encoded data removed]",
      "text/plain": [
       "<Figure size 432x288 with 1 Axes>"
      ]
     },
     "metadata": {
      "needs_background": "light"
     },
     "output_type": "display_data"
    }
   ],
   "source": [
    "model_result(predict, 'Vgg19_32')"
   ]
  },
  {
   "cell_type": "code",
   "execution_count": 13,
   "metadata": {},
   "outputs": [],
   "source": [
    "model = load_model('./models/Vgg19_32_last.h5')"
   ]
  },
  {
   "cell_type": "code",
   "execution_count": 14,
   "metadata": {},
   "outputs": [],
   "source": [
    "model.compile(loss='binary_crossentropy',\n",
    "              optimizer=Adam(learning_rate=0.0001),\n",
    "              metrics=[tf.keras.metrics.binary_crossentropy,'accuracy'])"
   ]
  },
  {
   "cell_type": "code",
   "execution_count": null,
   "metadata": {},
   "outputs": [],
   "source": []
  }
 ],
 "metadata": {
  "kernelspec": {
   "display_name": "Python 3",
   "language": "python",
   "name": "python3"
  },
  "language_info": {
   "codemirror_mode": {
    "name": "ipython",
    "version": 3
   },
   "file_extension": ".py",
   "mimetype": "text/x-python",
   "name": "python",
   "nbconvert_exporter": "python",
   "pygments_lexer": "ipython3",
   "version": "3.7.1"
  }
 },
 "nbformat": 4,
 "nbformat_minor": 4
}
